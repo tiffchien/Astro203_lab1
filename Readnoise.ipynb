{
 "cells": [
  {
   "cell_type": "code",
   "execution_count": 88,
   "metadata": {},
   "outputs": [],
   "source": [
    "import numpy as np\n",
    "from matplotlib import pyplot as plt\n",
    "import astropy\n",
    "from astropy.io import fits\n",
    "from matplotlib import pyplot as plt\n",
    "import scipy.stats"
   ]
  },
  {
   "cell_type": "code",
   "execution_count": 89,
   "metadata": {},
   "outputs": [],
   "source": [
    "def get_files_list(textfile):\n",
    "    f = open(textfile,'r')\n",
    "    lines = f.read().split(\"\\n\")\n",
    "    return lines\n",
    "\n",
    "#print get_files_list(\"testfile.txt\")"
   ]
  },
  {
   "cell_type": "markdown",
   "metadata": {},
   "source": [
    "## Calculating Readnoise\n",
    "\n",
    "To estimate readnoise we pick the lowest exposure dark frames. Low exposure darks are dominated by readnoise rather than Poisson statistical noise. In this case we selected the ten 5s $\\times$ 6coadd dark frames. We divide these ten darks into two groups. Each group was then median-combined and was named \"master_firsthalf\" and \"master_secondhalf\" respectively. These two \"master\" frames should be identical up to readnoise because by median combining 5 frames we further beat down on the statistical noise. We then subtracted the two \"master\" darks and call is \"master_diff\" to isolate the ADUs due to reading losses. This master_diff frame is then sigma-clipped to get rid of dead and hot pixels. \n",
    "\n",
    "Readnoise in electrons per read is then given by: \n",
    "$\\frac{std(masterdiff) ~ \\times~ gain ~\\times ~numreads}{\\sqrt{2}~ \\times ~coadds}$\n"
   ]
  },
  {
   "cell_type": "code",
   "execution_count": 90,
   "metadata": {},
   "outputs": [
    {
     "data": {
      "image/png": "[encoded data removed]",
      "text/plain": [
       "<matplotlib.figure.Figure at 0xcae0390>"
      ]
     },
     "metadata": {},
     "output_type": "display_data"
    },
    {
     "data": {
      "text/plain": [
       "'Readnoise: ~47 electrons/read'"
      ]
     },
     "execution_count": 90,
     "metadata": {},
     "output_type": "execute_result"
    }
   ],
   "source": [
    "## needs flat divided list of darkframes of the same type\n",
    "## need shortest exposure dark frame because read-noise dominates in this case\n",
    "\n",
    "\n",
    "def calculate_readnoise(dframeslist):\n",
    "    \"\"\"\n",
    "    Given a list of low-exposure dark frames, calculates the readnoise per read\n",
    "    \n",
    "    dframeslist: a list of filenames of low-exposure dark frames. Ex: ['n0021.fits.gz', 'n0022.fits.gz', 'n0023.fits.gz'...]\n",
    "    \n",
    "    output: float, readnoise in electrons/read\n",
    "    \n",
    "    \"\"\"\n",
    "    \n",
    "    superdata = []\n",
    "    \n",
    "    for i in range(len(dframeslist)):\n",
    "        superdata.append(fits.getdata(dframeslist[i]))\n",
    "        \n",
    "    \n",
    "    ### divide the dark frames into two sets\n",
    "    firsthalf = np.array(superdata[:len(superdata)/2])\n",
    "    secondhalf = np.array(superdata[len(superdata)/2 : ])\n",
    "\n",
    "    \n",
    "    ### median combine each set\n",
    "    masterfirsthalf = np.median(firsthalf, axis=0)\n",
    "    mastersecondhalf = np.median(secondhalf, axis=0)\n",
    "  \n",
    "    ### subtract the two master frames\n",
    "    masterdiff = masterfirsthalf - mastersecondhalf\n",
    "    \n",
    "    ### flatten the array into one dimension\n",
    "    flat_masterdiff = np.ndarray.flatten(masterdiff)\n",
    "  \n",
    "    \n",
    "    ### sigma-clip the masterdiff to get rid of dead and hot pixels\n",
    "    clip_flat_masterdiff, low, high = scipy.stats.sigmaclip(flat_masterdiff)\n",
    "\n",
    "    \n",
    "    ### get relevant info like numcoadds, numreads and ccd gain\n",
    "    hdul = fits.open(dframeslist[0]) \n",
    "    hdr = hdul[0].header  \n",
    "    \n",
    "    coadds = hdr['COADDS']\n",
    "    numreads = hdr[\"MULTISAM\"]\n",
    "    gain = hdr['GAIN']  ## electrons/ADU\n",
    "    \n",
    "    \n",
    "    ### plot the resulting histogram\n",
    "    plt.hist(clip_flat_masterdiff*gain, color=\"r\", histtype=\"step\" )\n",
    "    plt.yticks([])\n",
    "    plt.xlabel(\"Dark Image Difference (electrons)\")\n",
    "    plt.axvline(x=np.median(clip_flat_masterdiff*gain), ls=\"--\", c=\"k\")\n",
    "    plt.axvline(x=np.median(clip_flat_masterdiff*gain) - np.std(clip_flat_masterdiff*gain), ls=\"--\", c=\"k\")\n",
    "    plt.axvline(x=np.median(clip_flat_masterdiff*gain) + np.std(clip_flat_masterdiff*gain), ls=\"--\", c=\"k\")\n",
    "    plt.minorticks_on()\n",
    "    plt.show()\n",
    "    \n",
    "    \n",
    "    ### calculate readnoise\n",
    "    readnoise = np.std(clip_flat_masterdiff)*numreads*gain/(np.sqrt(2)*coadds)\n",
    "    \n",
    "    ### print readnoise\n",
    "    #print (\"readnoise: ~\" + str(int(readnoise)) + \" electrons/read\")\n",
    "    \n",
    "    return readnoise\n",
    "\n",
    "\n",
    "\"Readnoise: ~\" + str(int(calculate_readnoise(get_files_list(\"testfile.txt\")))) + \" electrons/read\"\n",
    "    \n",
    "    "
   ]
  },
  {
   "cell_type": "code",
   "execution_count": null,
   "metadata": {
    "collapsed": true
   },
   "outputs": [],
   "source": []
  }
 ],
 "metadata": {
  "kernelspec": {
   "display_name": "Python 3",
   "language": "python",
   "name": "python3"
  },
  "language_info": {
   "codemirror_mode": {
    "name": "ipython",
    "version": 3
   },
   "file_extension": ".py",
   "mimetype": "text/x-python",
   "name": "python",
   "nbconvert_exporter": "python",
   "pygments_lexer": "ipython3",
   "version": "3.8.2"
  }
 },
 "nbformat": 4,
 "nbformat_minor": 2
}
