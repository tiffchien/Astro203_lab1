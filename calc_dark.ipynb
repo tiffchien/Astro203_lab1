{
 "cells": [
  {
   "cell_type": "markdown",
   "metadata": {},
   "source": [
    "# Dark Current Estimation\n",
    "\n",
    "This noteboook calculates the dark current in a data set"
   ]
  },
  {
   "cell_type": "code",
   "execution_count": 368,
   "metadata": {},
   "outputs": [],
   "source": [
    "import numpy as np\n",
    "import matplotlib.pyplot as plt\n",
    "%matplotlib inline\n",
    "from astropy.io import fits\n",
    "from scipy.stats import sigmaclip"
   ]
  },
  {
   "cell_type": "markdown",
   "metadata": {},
   "source": [
    "## Load Nirc2 Data"
   ]
  },
  {
   "cell_type": "code",
   "execution_count": 369,
   "metadata": {},
   "outputs": [],
   "source": [
    "# Given array file_number_range in path, this function returns array of data with number label within file_number_range\n",
    "def get_data(path, file_number_range):\n",
    "    nirc2_datas = []\n",
    "    for i in file_number_range:\n",
    "        nirc2_path_value = path+'n'+(4-len(str(value)))*'0'+f'{i}.fits.gz'\n",
    "        nirc2_image_value = fits.open(nirc2_path_value)\n",
    "        nirc2_data_value = nirc2_image_value[0].data\n",
    "        nirc2_datas.append(nirc2_data_value)\n",
    "    return nirc2_datas\n",
    "\n",
    "# Load hdul of given file number, which can be later used to load individual data or headers\n",
    "def get_hdul(path, file_number):\n",
    "    nirc2_path_value = path+'n'+(4-len(str(value)))*'0'+f'{file_number}.fits.gz'\n",
    "    nirc2_image_value = fits.open(nirc2_path_value)\n",
    "    return nirc2_image_value[0]"
   ]
  },
  {
   "cell_type": "markdown",
   "metadata": {},
   "source": [
    "## Statistics and Fitting functions"
   ]
  },
  {
   "cell_type": "code",
   "execution_count": 370,
   "metadata": {},
   "outputs": [],
   "source": [
    "# Outputs averaged image and variance of each pixel of a dataset\n",
    "def image_processing(signal):\n",
    "    image_avg = np.average(signal, axis=0)\n",
    "    image_std = np.std(signal, axis=0)\n",
    "    return image_avg, image_std\n",
    "\n",
    "# Outputs average & median signal value and variance of image\n",
    "def processing(signal):\n",
    "    data_med = np.median(signal)\n",
    "    data_avg = np.average(signal)\n",
    "    data_std = np.std(signal)\n",
    "    return data_med, data_avg, data_std\n",
    "\n",
    "# Takes integration time, averaged signal of that integration time, and does polyfit to calculate dark signal per second integration per pixel\n",
    "def trend_poly(t_int, signal_int, degree):\n",
    "    fit = np.polyfit(t_int, signal_int, degree)\n",
    "    dark_poly = np.polyval(fit, t_int)\n",
    "    return dark_poly, fit\n",
    "\n",
    "# Statistics with masking. This function masks values that are 5 std (calculated before masking for conservative masking) away.\n",
    "def masked_processing(signal):\n",
    "    image_nomask = image_processing(signal)[0]\n",
    "    image_mask, lower, upper = sigmaclip(image_nomask, low=4.0, high=4.0)\n",
    "    med_mask = np.median(image_mask)\n",
    "    avg_mask = image_mask.mean()\n",
    "    std_mask = image_mask.var()\n",
    "    return med_mask, avg_mask, std_mask"
   ]
  },
  {
   "cell_type": "markdown",
   "metadata": {},
   "source": [
    "## Calculate Dark Current\n",
    "We first separately load data sets with different exposure times. Then we will plot the median dark signal of each averaged data set vs total exposure time (int time x coadd #) for polynomial fitting. Then we will calculate dark signal per 1s exposure time."
   ]
  },
  {
   "cell_type": "markdown",
   "metadata": {},
   "source": [
    "### Load all dark data and find average image of each set"
   ]
  },
  {
   "cell_type": "code",
   "execution_count": 371,
   "metadata": {},
   "outputs": [
    {
     "name": "stdout",
     "output_type": "stream",
     "text": [
      "For data set 0 with file number 21 - 30, median is 5.5, average is 5.498617428707243, and standard deviation is 25.629286644261995\n"
     ]
    }
   ],
   "source": [
    "path = '2016jul14/'\n",
    "# File numbers of data we would like to load\n",
    "value_init_0 = 21 #starting value for data\n",
    "value_end_0 = 30 #end value\n",
    "values_0 = np.arange(value_init_0, value_end_0+1)\n",
    "value_init_1 = 31 #starting value for data\n",
    "value_end_1 = 40 #end value\n",
    "values_1 = np.arange(value_init_1, value_end_1+1)\n",
    "value_init_2 = 41 #starting value for data\n",
    "value_end_2 = 50 #end value\n",
    "values_2 = np.arange(value_init_2, value_end_2+1)\n",
    "value_init_3 = 61 #starting value for data\n",
    "value_end_3 = 70 #end value\n",
    "values_3 = np.arange(value_init_3, value_end_3+1)\n",
    "\n",
    "t_int_0 = get_hdul(path, value_init_0).header['ITIME']\n",
    "t_int_1 = get_hdul(path, value_init_1).header['ITIME']\n",
    "t_int_2 = get_hdul(path, value_init_2).header['ITIME']\n",
    "t_int_3 = get_hdul(path, value_init_3).header['ITIME']\n",
    "coadd_0 = get_hdul(path, value_init_0).header['COADDS']\n",
    "coadd_1 = get_hdul(path, value_init_1).header['COADDS']\n",
    "coadd_2 = get_hdul(path, value_init_2).header['COADDS']\n",
    "coadd_3 = get_hdul(path, value_init_3).header['COADDS']\n",
    "gain_0 = get_hdul(path, value_init_0).header['GAIN']\n",
    "gain_1 = get_hdul(path, value_init_1).header['GAIN']\n",
    "gain_2 = get_hdul(path, value_init_2).header['GAIN']\n",
    "gain_3 = get_hdul(path, value_init_3).header['GAIN']\n",
    "\n",
    "nirc2_datas_0 = get_data(path, values_0)\n",
    "nirc2_datas_1 = get_data(path, values_1)\n",
    "nirc2_datas_2 = get_data(path, values_2)\n",
    "nirc2_datas_3 = get_data(path, values_3)\n",
    "\n",
    "med_0, avg_0, std_0 = masked_processing(nirc2_datas_0)\n",
    "med_1, avg_1, std_1 = masked_processing(nirc2_datas_1)\n",
    "med_2, avg_2, std_2 = masked_processing(nirc2_datas_2)\n",
    "med_3, avg_3, std_3 = masked_processing(nirc2_datas_3)\n",
    "\n",
    "\n",
    "print('For data set 0 with file number 21 - 30, median is '+str(med_1)+', average is '+str(avg_1)+', and standard deviation is '+str(std_0))\n",
    "\n",
    "dark_current_arr = np.array([med_0*gain_0/coadd_0, med_1*gain_1/coadd_1, med_2*gain_2/coadd_2, med_3*gain_3/coadd_3])\n",
    "dark_std = np.array([std_0*gain_0/coadd_0, std_1*gain_1/coadd_1, std_2*gain_2/coadd_2, std_3*gain_3/coadd_3])\n",
    "t_int_arr = np.array([t_int_0, t_int_1, t_int_2, t_int_3])"
   ]
  },
  {
   "cell_type": "markdown",
   "metadata": {},
   "source": [
    "### Plot polynomial trend of coadd reduced data w.r.t. integration time"
   ]
  },
  {
   "cell_type": "code",
   "execution_count": 373,
   "metadata": {},
   "outputs": [
    {
     "data": {
      "image/png": "[encoded data removed]",
      "text/plain": [
       "<matplotlib.figure.Figure at 0x7ffb8b3eeb38>"
      ]
     },
     "metadata": {},
     "output_type": "display_data"
    }
   ],
   "source": [
    "dark_fit_func, fit_coeff = trend_poly(t_int_arr, dark_current_arr, 1)\n",
    "\n",
    "plt.figure()\n",
    "plt.plot(t_int, dark_fit_func, label='polynomial fit')\n",
    "plt.errorbar(t_int, dark_current_arr, yerr = dark_std, fmt='o', label='dark current')\n",
    "plt.xlabel('Integration Time [sec]')\n",
    "plt.ylabel('Dark Current [Counts per pixel]')\n",
    "plt.legend(loc = 'upper left')\n",
    "plt.show()"
   ]
  },
  {
   "cell_type": "markdown",
   "metadata": {},
   "source": [
    "## Final Result"
   ]
  },
  {
   "cell_type": "code",
   "execution_count": 374,
   "metadata": {},
   "outputs": [
    {
     "name": "stdout",
     "output_type": "stream",
     "text": [
      "Dark Current: 0.4255072463768117 electrons per pixel per second\n"
     ]
    }
   ],
   "source": [
    "print('Dark Current: '+str(fit_coeff[0])+' electrons per pixel per second')"
   ]
  }
 ],
 "metadata": {
  "kernelspec": {
   "display_name": "Python 3",
   "language": "python",
   "name": "python3"
  },
  "language_info": {
   "codemirror_mode": {
    "name": "ipython",
    "version": 3
   },
   "file_extension": ".py",
   "mimetype": "text/x-python",
   "name": "python",
   "nbconvert_exporter": "python",
   "pygments_lexer": "ipython3",
   "version": "3.6.4"
  }
 },
 "nbformat": 4,
 "nbformat_minor": 2
}
