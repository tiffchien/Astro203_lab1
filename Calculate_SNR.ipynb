{
 "cells": [
  {
   "cell_type": "code",
   "execution_count": 1,
   "metadata": {
    "collapsed": false
   },
   "outputs": [],
   "source": [
    "import astropy.io.fits as fits\n",
    "import numpy as np\n",
    "from photutils import aperture_photometry\n",
    "from photutils import CircularAperture\n",
    "from matplotlib import pyplot as plt"
   ]
  },
  {
   "cell_type": "code",
   "execution_count": 2,
   "metadata": {
    "collapsed": false
   },
   "outputs": [],
   "source": [
    "### load files\n",
    "sky = fits.getdata(\"master_sky.fits\")\n",
    "sci_target = fits.getdata(\"acq.fits\")"
   ]
  },
  {
   "cell_type": "code",
   "execution_count": 3,
   "metadata": {
    "collapsed": true
   },
   "outputs": [],
   "source": [
    "### get some relevant information\n",
    "readnoise = 68. #electrons per read from Readoise.py\n",
    "gain = 4. # e-/DN\n",
    "t = 30. # total integration time"
   ]
  },
  {
   "cell_type": "code",
   "execution_count": 15,
   "metadata": {
    "collapsed": false
   },
   "outputs": [
    {
     "ename": "ZeroDivisionError",
     "evalue": "float division",
     "output_type": "error",
     "traceback": [
      "\u001b[0;31m\u001b[0m",
      "\u001b[0;31mZeroDivisionError\u001b[0mTraceback (most recent call last)",
      "\u001b[0;31mZeroDivisionError\u001b[0m: float division"
     ]
    },
    {
     "name": "stderr",
     "output_type": "stream",
     "text": [
      "Exception ZeroDivisionError: 'float division' in 'photutils.geometry.core.area_arc' ignored\n"
     ]
    },
    {
     "ename": "ZeroDivisionError",
     "evalue": "float division",
     "output_type": "error",
     "traceback": [
      "\u001b[0;31m\u001b[0m",
      "\u001b[0;31mZeroDivisionError\u001b[0mTraceback (most recent call last)",
      "\u001b[0;31mZeroDivisionError\u001b[0m: float division"
     ]
    },
    {
     "name": "stderr",
     "output_type": "stream",
     "text": [
      "Exception ZeroDivisionError: 'float division' in 'photutils.geometry.core.area_arc' ignored\n"
     ]
    },
    {
     "ename": "ZeroDivisionError",
     "evalue": "float division",
     "output_type": "error",
     "traceback": [
      "\u001b[0;31m\u001b[0m",
      "\u001b[0;31mZeroDivisionError\u001b[0mTraceback (most recent call last)",
      "\u001b[0;31mZeroDivisionError\u001b[0m: float division"
     ]
    },
    {
     "name": "stderr",
     "output_type": "stream",
     "text": [
      "Exception ZeroDivisionError: 'float division' in 'photutils.geometry.core.area_arc' ignored\n"
     ]
    },
    {
     "ename": "ZeroDivisionError",
     "evalue": "float division",
     "output_type": "error",
     "traceback": [
      "\u001b[0;31m\u001b[0m",
      "\u001b[0;31mZeroDivisionError\u001b[0mTraceback (most recent call last)",
      "\u001b[0;31mZeroDivisionError\u001b[0m: float division"
     ]
    },
    {
     "name": "stderr",
     "output_type": "stream",
     "text": [
      "Exception ZeroDivisionError: 'float division' in 'photutils.geometry.core.area_arc' ignored\n"
     ]
    },
    {
     "data": {
      "image/png": "[encoded data removed]",
      "text/plain": [
       "<matplotlib.figure.Figure at 0xb8fb5c0>"
      ]
     },
     "metadata": {},
     "output_type": "display_data"
    }
   ],
   "source": [
    "## define aperture centre\n",
    "positions = [(457., 549.)] ### determined by visual inspection of the image\n",
    "\n",
    "\n",
    "####   plot psuedo-psf #####\n",
    "for i in range(1,50):\n",
    "    aperture = CircularAperture(positions, r=i)\n",
    "    previous_aperture = CircularAperture(positions, r=i-1)\n",
    "    phot_table = aperture_photometry(sci_target, aperture)\n",
    "    previous_phot_table = aperture_photometry(sci_target, previous_aperture)\n",
    "    \n",
    "    plt.plot(i, (phot_table['aperture_sum'] - previous_phot_table[\"aperture_sum\"])*gain, \"ko\")\n",
    "\n",
    "plt.xlabel(\"aperture size (pixels)\")\n",
    "plt.ylabel(\"sum of electrons\")\n",
    "plt.title(\"psuedo-psf\")\n",
    "plt.show()\n"
   ]
  },
  {
   "cell_type": "markdown",
   "metadata": {},
   "source": [
    "We can see from the psuedo-psf plot that most of the target's light is contained within a 10 pixel radius. So we set our aperture radius to be 10 pixels. "
   ]
  },
  {
   "cell_type": "code",
   "execution_count": 22,
   "metadata": {
    "collapsed": false
   },
   "outputs": [
    {
     "name": "stdout",
     "output_type": "stream",
     "text": [
      "numpix:  314.159265359\n",
      "__________________________________________________\n",
      " id xcenter ycenter aperture_sum\n",
      "      pix     pix               \n",
      "--- ------- ------- ------------\n",
      "  1   457.0   549.0    1015644.9\n",
      "__________________________________________________\n",
      "Target signal in e-/s:  135419\n"
     ]
    }
   ],
   "source": [
    "### photometry on science target\n",
    "\n",
    "pixrad = 10.  ### determined from the psuedo-psf\n",
    "numpix = np.pi*pixrad**2  ##approx number of pixels in the aperture\n",
    "print \"numpix: \", numpix\n",
    "print \"__________________________________________________\"\n",
    "\n",
    "\n",
    "aperture = CircularAperture(positions, r=pixrad)\n",
    "phot_table = aperture_photometry(sci_target, aperture)\n",
    "phot_table['aperture_sum'].info.format = '%.8g'  # for consistent table output\n",
    "print(phot_table)\n",
    "\n",
    "print \"__________________________________________________\"\n",
    "\n",
    "S = phot_table[\"aperture_sum\"]*gain/t ## signal in e-/sec\n",
    "print \"Target signal in e-/s: \", np.int(S)"
   ]
  },
  {
   "cell_type": "code",
   "execution_count": 23,
   "metadata": {
    "collapsed": false
   },
   "outputs": [
    {
     "name": "stdout",
     "output_type": "stream",
     "text": [
      " id xcenter ycenter aperture_sum\n",
      "      pix     pix               \n",
      "--- ------- ------- ------------\n",
      "  1   457.0   549.0    40532.929\n",
      "__________________________________________________\n",
      "Sky signal in e-/s:  5404\n"
     ]
    }
   ],
   "source": [
    "### photometry on corresponding sky background\n",
    "\n",
    "aperture = CircularAperture(positions, r=pixrad)\n",
    "phot_table = aperture_photometry(sky, aperture)\n",
    "phot_table['aperture_sum'].info.format = '%.8g'  # for consistent table output\n",
    "print(phot_table)\n",
    "\n",
    "print \"__________________________________________________\"\n",
    "\n",
    "B = phot_table[\"aperture_sum\"]*gain/t ## background sky in e-/sec\n",
    "print \"Sky signal in e-/s: \", np.int(B)"
   ]
  },
  {
   "cell_type": "code",
   "execution_count": 25,
   "metadata": {
    "collapsed": false
   },
   "outputs": [
    {
     "name": "stdout",
     "output_type": "stream",
     "text": [
      "Signal (e-/s):  135419\n",
      "Noise (e-/s):  1216\n",
      "Approximate SNR:  111\n"
     ]
    }
   ],
   "source": [
    "#### calculate SNR assuming \"good calibration\", i.e. noise from dark current is negligible\n",
    "\n",
    "signal = S \n",
    "noise = np.sqrt(S + numpix* (S + B + ((readnoise**2)/t)))/np.sqrt(t)\n",
    "SNR = signal/noise\n",
    "\n",
    "print \"Signal (e-/s): \", np.int(signal)\n",
    "print \"Noise (e-/s): \", np.int(noise)\n",
    "print \"Approximate SNR: \", np.int(SNR)\n"
   ]
  },
  {
   "cell_type": "code",
   "execution_count": null,
   "metadata": {
    "collapsed": false
   },
   "outputs": [],
   "source": []
  },
  {
   "cell_type": "code",
   "execution_count": null,
   "metadata": {
    "collapsed": true
   },
   "outputs": [],
   "source": []
  }
 ],
 "metadata": {
  "anaconda-cloud": {},
  "kernelspec": {
   "display_name": "Python [default]",
   "language": "python",
   "name": "python2"
  },
  "language_info": {
   "codemirror_mode": {
    "name": "ipython",
    "version": 2
   },
   "file_extension": ".py",
   "mimetype": "text/x-python",
   "name": "python",
   "nbconvert_exporter": "python",
   "pygments_lexer": "ipython2",
   "version": "2.7.12"
  }
 },
 "nbformat": 4,
 "nbformat_minor": 2
}
